{
 "cells": [
  {
   "cell_type": "code",
   "execution_count": 2,
   "metadata": {},
   "outputs": [],
   "source": [
    "import random"
   ]
  },
  {
   "cell_type": "code",
   "execution_count": 9,
   "metadata": {},
   "outputs": [],
   "source": [
    "lista = []\n",
    "\n"
   ]
  },
  {
   "cell_type": "code",
   "execution_count": 11,
   "metadata": {},
   "outputs": [],
   "source": [
    "for i in range(100):\n",
    "    lista.append( { \"dado\": random.randint(1,100)})"
   ]
  },
  {
   "cell_type": "code",
   "execution_count": 12,
   "metadata": {},
   "outputs": [
    {
     "name": "stdout",
     "output_type": "stream",
     "text": [
      "[{'dado': 42}, {'dado': 63}, {'dado': 90}, {'dado': 26}, {'dado': 44}, {'dado': 19}, {'dado': 11}, {'dado': 3}, {'dado': 55}, {'dado': 66}, {'dado': 33}, {'dado': 26}, {'dado': 72}, {'dado': 61}, {'dado': 1}, {'dado': 8}, {'dado': 78}, {'dado': 76}, {'dado': 45}, {'dado': 18}, {'dado': 7}, {'dado': 72}, {'dado': 56}, {'dado': 51}, {'dado': 12}, {'dado': 4}, {'dado': 82}, {'dado': 81}, {'dado': 56}, {'dado': 39}, {'dado': 73}, {'dado': 3}, {'dado': 33}, {'dado': 9}, {'dado': 14}, {'dado': 86}, {'dado': 96}, {'dado': 54}, {'dado': 93}, {'dado': 66}, {'dado': 41}, {'dado': 9}, {'dado': 27}, {'dado': 18}, {'dado': 83}, {'dado': 96}, {'dado': 25}, {'dado': 9}, {'dado': 90}, {'dado': 60}, {'dado': 100}, {'dado': 5}, {'dado': 7}, {'dado': 64}, {'dado': 74}, {'dado': 58}, {'dado': 49}, {'dado': 43}, {'dado': 64}, {'dado': 78}, {'dado': 10}, {'dado': 3}, {'dado': 28}, {'dado': 63}, {'dado': 92}, {'dado': 88}, {'dado': 78}, {'dado': 94}, {'dado': 66}, {'dado': 18}, {'dado': 40}, {'dado': 26}, {'dado': 73}, {'dado': 45}, {'dado': 35}, {'dado': 12}, {'dado': 72}, {'dado': 47}, {'dado': 19}, {'dado': 45}, {'dado': 25}, {'dado': 77}, {'dado': 19}, {'dado': 31}, {'dado': 62}, {'dado': 59}, {'dado': 22}, {'dado': 63}, {'dado': 33}, {'dado': 73}, {'dado': 9}, {'dado': 1}, {'dado': 42}, {'dado': 63}, {'dado': 63}, {'dado': 11}, {'dado': 15}, {'dado': 19}, {'dado': 69}, {'dado': 98}]\n"
     ]
    }
   ],
   "source": [
    "print(lista)"
   ]
  },
  {
   "cell_type": "code",
   "execution_count": 19,
   "metadata": {},
   "outputs": [
    {
     "name": "stdout",
     "output_type": "stream",
     "text": [
      "98\n"
     ]
    }
   ],
   "source": [
    "print(lista[99].get(\"dado\"))"
   ]
  },
  {
   "cell_type": "markdown",
   "metadata": {},
   "source": [
    "carregue a data atual, moster somente a data"
   ]
  },
  {
   "cell_type": "code",
   "execution_count": 54,
   "metadata": {},
   "outputs": [
    {
     "name": "stdout",
     "output_type": "stream",
     "text": [
      "2024-08-16\n"
     ]
    }
   ],
   "source": [
    "import datetime\n",
    "\n",
    "hoje = datetime.date.today()\n",
    "\n",
    "print(hoje)"
   ]
  },
  {
   "cell_type": "code",
   "execution_count": 55,
   "metadata": {},
   "outputs": [
    {
     "name": "stdout",
     "output_type": "stream",
     "text": [
      "2024-08-18\n"
     ]
    }
   ],
   "source": [
    "hoje2 = hoje + datetime.timedelta(2)\n",
    "\n",
    "print(hoje2)"
   ]
  },
  {
   "cell_type": "code",
   "execution_count": 33,
   "metadata": {},
   "outputs": [
    {
     "name": "stdout",
     "output_type": "stream",
     "text": [
      "ola mundo \n"
     ]
    }
   ],
   "source": [
    "ex03 = { 'm1':{'m2': \"ola mundo \"}}\n",
    "\n",
    "print(ex03.get(\"m1\").get(\"m2\"))"
   ]
  },
  {
   "cell_type": "code",
   "execution_count": 20,
   "metadata": {},
   "outputs": [
    {
     "name": "stdout",
     "output_type": "stream",
     "text": [
      "96\n",
      "é par\n"
     ]
    }
   ],
   "source": [
    "num = random.randint(1,100)\n",
    "\n",
    "print(num)\n",
    "def epar(num):\n",
    "    if num %2 == 0:\n",
    "        print(\"é par\")\n",
    "    else:\n",
    "        print(\"é impar\")\n",
    "\n",
    "epar(num)"
   ]
  },
  {
   "cell_type": "code",
   "execution_count": 4,
   "metadata": {},
   "outputs": [
    {
     "name": "stdout",
     "output_type": "stream",
     "text": [
      "a média é: 3.5\n",
      "a menor nota foi: 2\n",
      "a maior nota foi: 5\n",
      "as notas foram: [3, 5, 4, 2]\n"
     ]
    }
   ],
   "source": [
    "notas = []\n",
    "\n",
    "for i in range(4):\n",
    "    notas.append(random.randint(0,10))\n",
    "\n",
    "soma = 0\n",
    "maior = notas[0]\n",
    "menor = notas[0]\n",
    "for nota in notas:\n",
    "    soma += nota\n",
    "    if nota > maior:\n",
    "        maior = nota\n",
    "    if nota < menor:\n",
    "        menor = nota\n",
    "\n",
    "print(f\"a média é: {soma/4}\\na menor nota foi: {menor}\\na maior nota foi: {maior}\")\n",
    "print(f\"as notas foram: {notas}\")"
   ]
  },
  {
   "cell_type": "code",
   "execution_count": 7,
   "metadata": {},
   "outputs": [
    {
     "name": "stdout",
     "output_type": "stream",
     "text": [
      "o número é 48, seu antecessor é 47 e sucessor é 49\n"
     ]
    }
   ],
   "source": [
    "num2 = random.randint(0,100)\n",
    "\n",
    "print(f\"o número é {num2}, seu antecessor é {num2-1} e sucessor é {num2 + 1}\")"
   ]
  },
  {
   "cell_type": "code",
   "execution_count": 18,
   "metadata": {},
   "outputs": [
    {
     "name": "stdout",
     "output_type": "stream",
     "text": [
      "esse numero era um inteiro 20.00\n"
     ]
    }
   ],
   "source": [
    "num3 = random.randint(0,100)\n",
    "\n",
    "print(f\"esse numero era um inteiro {float(num3):.2f}\")"
   ]
  },
  {
   "cell_type": "code",
   "execution_count": 21,
   "metadata": {},
   "outputs": [
    {
     "name": "stdout",
     "output_type": "stream",
     "text": [
      "47\n",
      "é impar\n"
     ]
    }
   ],
   "source": [
    "numpar = random.randint(1,100)\n",
    "\n",
    "print(numpar)\n",
    "\n",
    "if numpar %2 == 0:\n",
    "    print(\"é par\")\n",
    "else:\n",
    "    print(\"é impar\")"
   ]
  },
  {
   "cell_type": "code",
   "execution_count": 49,
   "metadata": {},
   "outputs": [
    {
     "name": "stdout",
     "output_type": "stream",
     "text": [
      "aprovado sua nota foi: 7\n",
      "as notas foram: [6, 6, 7, 7]\n"
     ]
    }
   ],
   "source": [
    "notasf = []\n",
    "\n",
    "soma = 0\n",
    "for i in range(4):\n",
    "    nota = random.randint(4,10)\n",
    "    notasf.append(nota)\n",
    "    soma += nota\n",
    "\n",
    "\n",
    "media  =  soma/4\n",
    "if media >= 8:\n",
    "    print('aprovado')\n",
    "else:\n",
    "    media = random.randint(0,10)\n",
    "    if media >= 6:\n",
    "        print(f\"aprovado sua nota foi: {media}\")\n",
    "    else:\n",
    "        print(f\"reprovado a sua nota foi: {media}\")\n",
    "\n",
    "print(f\"as notas foram: {notasf}\")"
   ]
  },
  {
   "cell_type": "code",
   "execution_count": 52,
   "metadata": {},
   "outputs": [
    {
     "name": "stdout",
     "output_type": "stream",
     "text": [
      "exercicios de Python\n"
     ]
    }
   ],
   "source": [
    "frase = \"exercicios de Java\"\n",
    "\n",
    "\n",
    "print(frase.replace(\"Java\", \"Python\"))"
   ]
  },
  {
   "cell_type": "code",
   "execution_count": 57,
   "metadata": {},
   "outputs": [
    {
     "name": "stdout",
     "output_type": "stream",
     "text": [
      "2.0\n"
     ]
    }
   ],
   "source": [
    "import math\n",
    "print(math.sqrt(4))"
   ]
  },
  {
   "cell_type": "code",
   "execution_count": 60,
   "metadata": {},
   "outputs": [
    {
     "name": "stdout",
     "output_type": "stream",
     "text": [
      "[ 0  2  4  6  8 10 12 14 16 18]\n"
     ]
    }
   ],
   "source": [
    "import numpy as np\n",
    "\n",
    "a = np.arange(0,10)\n",
    "a = a*2\n",
    "print(a)"
   ]
  }
 ],
 "metadata": {
  "kernelspec": {
   "display_name": "Python 3.10.6 64-bit",
   "language": "python",
   "name": "python3"
  },
  "language_info": {
   "codemirror_mode": {
    "name": "ipython",
    "version": 3
   },
   "file_extension": ".py",
   "mimetype": "text/x-python",
   "name": "python",
   "nbconvert_exporter": "python",
   "pygments_lexer": "ipython3",
   "version": "3.10.6"
  },
  "orig_nbformat": 4,
  "vscode": {
   "interpreter": {
    "hash": "8fee86138af1eb0db027abd7ae9811a7a68978550fae5e6e8a2fd892a05f89b8"
   }
  }
 },
 "nbformat": 4,
 "nbformat_minor": 2
}
